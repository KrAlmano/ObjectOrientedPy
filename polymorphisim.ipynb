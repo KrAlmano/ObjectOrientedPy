{
 "cells": [
  {
   "cell_type": "code",
   "execution_count": null,
   "id": "b06edca5",
   "metadata": {},
   "outputs": [
    {
     "name": "stdout",
     "output_type": "stream",
     "text": [
      "110.0\n",
      "120.0\n",
      "130.0\n",
      "120.0\n",
      "130.0\n"
     ]
    }
   ],
   "source": [
    "class Employee:\n",
    "\n",
    "    def raisee(self):\n",
    "        raise_rate = 0.1\n",
    "        result= 100+ 100*raise_rate\n",
    "        print(result)\n",
    "\n",
    "\n",
    "class CompEng(Employee):\n",
    "    def raisee(self):\n",
    "        raise_rate = 0.2\n",
    "        result= 100 + 100*raise_rate\n",
    "        print(result)\n",
    "\n",
    "class EEE(Employee):\n",
    "    def raisee(self):\n",
    "        raise_rate = 0.3\n",
    "        result = 100 + 100*raise_rate\n",
    "        print(result)\n",
    "    \n",
    "\n",
    "e1 = Employee()\n",
    "e1.raisee()\n",
    "\n",
    "ce1= CompEng()\n",
    "ce1.raisee()\n",
    "\n",
    "eee1= EEE()\n",
    "eee1.raisee()\n",
    "\n",
    "Employee_list = [ce1,eee1]\n",
    "\n",
    "for employee in Employee_list:\n",
    "    employee.raisee()"
   ]
  }
 ],
 "metadata": {
  "kernelspec": {
   "display_name": "Python 3",
   "language": "python",
   "name": "python3"
  },
  "language_info": {
   "codemirror_mode": {
    "name": "ipython",
    "version": 3
   },
   "file_extension": ".py",
   "mimetype": "text/x-python",
   "name": "python",
   "nbconvert_exporter": "python",
   "pygments_lexer": "ipython3",
   "version": "3.13.5"
  }
 },
 "nbformat": 4,
 "nbformat_minor": 5
}

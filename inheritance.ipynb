{
 "cells": [
  {
   "cell_type": "code",
   "execution_count": 10,
   "id": "19e66eb6",
   "metadata": {},
   "outputs": [
    {
     "name": "stdout",
     "output_type": "stream",
     "text": [
      "Animal is created\n",
      "Monkey is created\n",
      "Monkey\n",
      "Animal walk\n",
      "Monkey can climb\n",
      "Animal is created\n",
      "Bird is created\n",
      "Bird flying\n",
      "Animal walk\n"
     ]
    }
   ],
   "source": [
    "class Animal(object):\n",
    "    def __init__(self):\n",
    "        print(\"Animal is created\")\n",
    "\n",
    "    def toString(self):\n",
    "        print(\"Animal\")\n",
    "\n",
    "    def walk(self):\n",
    "        print(\"Animal walk\")\n",
    "\n",
    "\n",
    "class Monkey(Animal):\n",
    "    def __init__(self):\n",
    "        super().__init__() #Parent classının init metodunu child classına aktarıyor\n",
    "        print(\"Monkey is created\")\n",
    "\n",
    "    def toString(self):\n",
    "        print(\"Monkey\")\n",
    "\n",
    "    def climb(self):\n",
    "        print(\"Monkey can climb\")\n",
    "\n",
    "\n",
    "class Bird(Animal):\n",
    "    def __init__(self):\n",
    "        super().__init__()\n",
    "        print(\"Bird is created\")\n",
    "\n",
    "    def fly(self):\n",
    "        print(\"Bird flying\")\n",
    "\n",
    "\n",
    "m1 = Monkey()\n",
    "m1.toString()\n",
    "m1.walk()\n",
    "m1.climb()\n",
    "\n",
    "b1 = Bird()\n",
    "b1.fly()\n",
    "b1.walk()\n",
    "\n",
    "\n"
   ]
  },
  {
   "cell_type": "code",
   "execution_count": 12,
   "id": "b62ab513",
   "metadata": {},
   "outputs": [
    {
     "name": "stdout",
     "output_type": "stream",
     "text": [
      "Ahmet Furkan\n",
      "Almano Ahmet 123\n",
      "Almano Ahmet\n",
      "Mehmet Furkan @gmail.com\n",
      "Mehmet Furkan\n"
     ]
    }
   ],
   "source": [
    "class Website(object):\n",
    "    def __init__(self,name,surname):\n",
    "        self.name = name\n",
    "        self.surname = surname\n",
    "\n",
    "    \n",
    "    def loginİnfo(self):\n",
    "        print(self.name + \" \" + self.surname)\n",
    "\n",
    "\n",
    "class Website1(Website):\n",
    "    def __init__(self, name, surname,id):\n",
    "        super().__init__(name, surname)\n",
    "        self.id = id\n",
    "\n",
    "    def login(self):\n",
    "        print(self.name + \" \" + self.surname + \" \" + self.id)\n",
    "\n",
    "\n",
    "\n",
    "class Website2(Website):\n",
    "    def __init__(self, name, surname,email):\n",
    "        super().__init__(name, surname)\n",
    "        self.email = email\n",
    "\n",
    "    def login(self):\n",
    "        print(self.name + \" \" + self.surname +\" \"+self.email)\n",
    "\n",
    "\n",
    "\n",
    "wb = Website(\"Ahmet\",\"Furkan\")\n",
    "wb.loginİnfo()\n",
    "\n",
    "wb1 = Website1(\"Almano\",\"Ahmet\",\"123\")\n",
    "wb1.login()\n",
    "wb1.loginİnfo()\n",
    "\n",
    "wb2 = Website2(\"Mehmet\",'Furkan','@gmail.com')\n",
    "wb2.login()\n",
    "wb2.loginİnfo()"
   ]
  }
 ],
 "metadata": {
  "kernelspec": {
   "display_name": "Python 3",
   "language": "python",
   "name": "python3"
  },
  "language_info": {
   "codemirror_mode": {
    "name": "ipython",
    "version": 3
   },
   "file_extension": ".py",
   "mimetype": "text/x-python",
   "name": "python",
   "nbconvert_exporter": "python",
   "pygments_lexer": "ipython3",
   "version": "3.13.5"
  }
 },
 "nbformat": 4,
 "nbformat_minor": 5
}

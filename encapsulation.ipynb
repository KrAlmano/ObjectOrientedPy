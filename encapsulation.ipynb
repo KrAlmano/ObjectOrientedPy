{
 "cells": [
  {
   "cell_type": "code",
   "execution_count": null,
   "id": "d182496b",
   "metadata": {},
   "outputs": [
    {
     "ename": "AttributeError",
     "evalue": "'BankAccount' object has no attribute '__increase'",
     "output_type": "error",
     "traceback": [
      "\u001b[31m---------------------------------------------------------------------------\u001b[39m",
      "\u001b[31mAttributeError\u001b[39m                            Traceback (most recent call last)",
      "\u001b[36mCell\u001b[39m\u001b[36m \u001b[39m\u001b[32mIn[9]\u001b[39m\u001b[32m, line 22\u001b[39m\n\u001b[32m     18\u001b[39m p2 = BankAccount(\u001b[33m\"\u001b[39m\u001b[33mMehmet\u001b[39m\u001b[33m\"\u001b[39m,\u001b[32m2000\u001b[39m,\u001b[33m\"\u001b[39m\u001b[33mİstanbul\u001b[39m\u001b[33m\"\u001b[39m)\n\u001b[32m     21\u001b[39m p1.setMoney(\u001b[32m4000\u001b[39m)\n\u001b[32m---> \u001b[39m\u001b[32m22\u001b[39m \u001b[43mp1\u001b[49m\u001b[43m.\u001b[49m\u001b[43m__increase\u001b[49m()\n",
      "\u001b[31mAttributeError\u001b[39m: 'BankAccount' object has no attribute '__increase'"
     ]
    }
   ],
   "source": [
    "class BankAccount(object):\n",
    "    def __init__(self,name,money,adress):\n",
    "        self.name = name\n",
    "        self.__money = money  #__ koyarak private yaptık\n",
    "        self.adress = adress\n",
    "\n",
    "    def getMoney(self):\n",
    "        return self.__money\n",
    "\n",
    "    def setMoney(self,amount):\n",
    "        self.__money = amount\n",
    "\n",
    "    def __increase(self): #__ koyarak metodu da private yapabiliyoruz\n",
    "        self.__money = self.__money + 500\n",
    "\n",
    "\n",
    "p1 = BankAccount(\"Ahmet\" , 1000,\"Ankara\")\n",
    "p2 = BankAccount(\"Mehmet\",2000,\"İstanbul\")\n",
    "\n",
    "\n",
    "p1.setMoney(4000)\n",
    "#p1.__increase()"
   ]
  }
 ],
 "metadata": {
  "kernelspec": {
   "display_name": "Python 3",
   "language": "python",
   "name": "python3"
  },
  "language_info": {
   "codemirror_mode": {
    "name": "ipython",
    "version": 3
   },
   "file_extension": ".py",
   "mimetype": "text/x-python",
   "name": "python",
   "nbconvert_exporter": "python",
   "pygments_lexer": "ipython3",
   "version": "3.13.5"
  }
 },
 "nbformat": 4,
 "nbformat_minor": 5
}

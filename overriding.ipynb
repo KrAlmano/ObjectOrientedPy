{
 "cells": [
  {
   "cell_type": "code",
   "execution_count": null,
   "id": "c7d7139c",
   "metadata": {},
   "outputs": [
    {
     "name": "stdout",
     "output_type": "stream",
     "text": [
      "Animal\n",
      "Monkey\n"
     ]
    }
   ],
   "source": [
    "class Animal:\n",
    "    def toString(self):\n",
    "        print(\"Animal\")\n",
    "\n",
    "class Monkey(Animal):\n",
    "    \n",
    "    def toString(self):\n",
    "        print(\"Monkey\")\n",
    "\n",
    "\n",
    "a1 = Animal()\n",
    "a1.toString()\n",
    "\n",
    "\n",
    "m1 = Monkey()\n",
    "m1.toString()  #Monkey calls overriding method\n",
    "        "
   ]
  }
 ],
 "metadata": {
  "kernelspec": {
   "display_name": "Python 3",
   "language": "python",
   "name": "python3"
  },
  "language_info": {
   "codemirror_mode": {
    "name": "ipython",
    "version": 3
   },
   "file_extension": ".py",
   "mimetype": "text/x-python",
   "name": "python",
   "nbconvert_exporter": "python",
   "pygments_lexer": "ipython3",
   "version": "3.13.5"
  }
 },
 "nbformat": 4,
 "nbformat_minor": 5
}

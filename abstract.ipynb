{
 "cells": [
  {
   "cell_type": "code",
   "execution_count": null,
   "id": "edc45517",
   "metadata": {},
   "outputs": [
    {
     "name": "stdout",
     "output_type": "stream",
     "text": [
      "Bird\n",
      "Run\n"
     ]
    }
   ],
   "source": [
    "from abc import ABC,abstractmethod\n",
    "\n",
    "\n",
    "class Animal(ABC):\n",
    "    @abstractmethod\n",
    "    def walk(self): pass\n",
    "\n",
    "    @abstractmethod  #Alt sınıflarda bu fonksiyonları kullanmak zorunlu\n",
    "    def run(self): pass\n",
    "\n",
    "\n",
    "class Bird(Animal):\n",
    "    def __init__(self):\n",
    "        print(\"Bird\")\n",
    "\n",
    "    def walk(self):\n",
    "        print(\"Walk\")\n",
    "\n",
    "  \n",
    "    def run(self): \n",
    "        print(\"Run\")\n",
    "\n",
    "b = Bird()\n",
    "b.run()"
   ]
  }
 ],
 "metadata": {
  "kernelspec": {
   "display_name": "Python 3",
   "language": "python",
   "name": "python3"
  },
  "language_info": {
   "codemirror_mode": {
    "name": "ipython",
    "version": 3
   },
   "file_extension": ".py",
   "mimetype": "text/x-python",
   "name": "python",
   "nbconvert_exporter": "python",
   "pygments_lexer": "ipython3",
   "version": "3.13.5"
  }
 },
 "nbformat": 4,
 "nbformat_minor": 5
}

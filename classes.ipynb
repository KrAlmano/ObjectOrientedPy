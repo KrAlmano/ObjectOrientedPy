{
 "cells": [
  {
   "cell_type": "code",
   "execution_count": 3,
   "id": "bad7a1c4",
   "metadata": {},
   "outputs": [
    {
     "data": {
      "text/plain": [
       "'Dog'"
      ]
     },
     "execution_count": 3,
     "metadata": {},
     "output_type": "execute_result"
    }
   ],
   "source": [
    "class Animal(object):\n",
    "\n",
    "    def __init__(self,name,age):\n",
    "        self.name = name\n",
    "        self.age = age\n",
    "\n",
    "    def getAge(self):\n",
    "        return self.age\n",
    "    \n",
    "\n",
    "a1 = Animal(\"Dog\",3)\n",
    "a1.age\n",
    "a1.name"
   ]
  },
  {
   "cell_type": "code",
   "execution_count": null,
   "id": "f2882d86",
   "metadata": {},
   "outputs": [
    {
     "name": "stdout",
     "output_type": "stream",
     "text": [
      "Choose add(1), multiply(2), division(3)\n",
      "Division : 4.0\n"
     ]
    }
   ],
   "source": [
    "#Calculator Project\n",
    "\n",
    "class Calculator(object):\n",
    "    \"Calculator\"\n",
    "\n",
    "    #İnit method\n",
    "    def __init__(self,a,b):\n",
    "        \"initialize values\"\n",
    "        self.value1 = a\n",
    "        self.value2 = b\n",
    "\n",
    "    def add(self):\n",
    "        \"addition a+b -> return result\"\n",
    "        return self.value1 + self.value2\n",
    "\n",
    "    def multiply(self):\n",
    "        \"Multiplication a*b -> return result\"\n",
    "        return self.value1* self.value2\n",
    "    \n",
    "    def division(self):\n",
    "        \"Division a/b -> return result\"\n",
    "        return self.value1 / self.value2\n",
    "\n",
    "\n",
    "print(\"Choose add(1), multiply(2), division(3)\")\n",
    "selection = input(\"Select 1 or 2 or 3\\n\")\n",
    "\n",
    "\n",
    "v1 = int(input(\"First Value : \"))\n",
    "v2 = int(input(\"Second Value : \"))\n",
    "\n",
    "c1 = Calculator(v1,v2)\n",
    "\n",
    "if selection == \"1\":\n",
    "    add_result = c1.add()\n",
    "    print(\"Add: {} \".format(add_result))\n",
    "elif selection == \"2\":\n",
    "    multiply_result = c1.multiply()\n",
    "    print(\"Multiply: {}\".format(multiply_result))\n",
    "\n",
    "elif selection == \"3\":\n",
    "    division_result = c1.division()\n",
    "    print(\"Division : {}\".format(divi))\n",
    "\n",
    "\n",
    "\n"
   ]
  }
 ],
 "metadata": {
  "kernelspec": {
   "display_name": "Python 3",
   "language": "python",
   "name": "python3"
  },
  "language_info": {
   "codemirror_mode": {
    "name": "ipython",
    "version": 3
   },
   "file_extension": ".py",
   "mimetype": "text/x-python",
   "name": "python",
   "nbconvert_exporter": "python",
   "pygments_lexer": "ipython3",
   "version": "3.13.5"
  }
 },
 "nbformat": 4,
 "nbformat_minor": 5
}
